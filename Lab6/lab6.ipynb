{
 "cells": [
  {
   "cell_type": "markdown",
   "metadata": {},
   "source": [
    "# Lab 6: Plot Trajectories based on Odometry and Ground Truth\n",
    "### ECE 4960 (Fall 2020)\n",
    "<hr>"
   ]
  },
  {
   "cell_type": "markdown",
   "metadata": {},
   "source": [
    "## Simulator\n",
    "- The robot simulator simulates a differential drive, wheeled robot with a laser range finder, similar to our physical robot.\n",
    "- The laser range finder is located at the front and center portion of the robot.\n",
    "- In the simulator window, select \"View->Data\" or press \\<d\\> on your keyboard to visualize the range finder.\n",
    "\n",
    "## Robot Class\n",
    "It provides a control interface for the robot in the simulator. It sets up a communication channel to send/receive data to/from the smulator appication to perform the following operations:\n",
    "- Get robot odometry pose\n",
    "- Move the robot\n",
    "- Get range finder data\n",
    "\n",
    "### Plotter\n",
    "The 2d plotting tool is a lightweight process that allows for live asynchronous plotting of multiple scatter plots using Python. The Python API to plot points is described in the Jupyter notebook. It allows you to plot the odometry and ground truth poses. It also allows you to plot the map (as line segments) and robot belief in future labs. Play around with the various GUI buttons to familiarize yourself with the tool.\n",
    "\n",
    "The plotter currently plots points only when the distance between subsequent points sent to it is greater than 0.03 m. This helps limit the number of points plotted. The value can be configured in the plotter config file **plotter_config.ini** present within the scripts folder. \n",
    "\n",
    "<hr>"
   ]
  },
  {
   "cell_type": "markdown",
   "metadata": {},
   "source": [
    "## Import necessary modules"
   ]
  },
  {
   "cell_type": "code",
   "execution_count": 1,
   "metadata": {},
   "outputs": [],
   "source": [
    "# Automatically reload changes in python modules\n",
    "%load_ext autoreload\n",
    "%autoreload 2\n",
    "\n",
    "# Import robot class\n",
    "from robot_interface import *\n",
    "\n",
    "import time\n",
    "import numpy as np\n",
    "import rospy\n",
    "from random import uniform"
   ]
  },
  {
   "cell_type": "markdown",
   "metadata": {},
   "source": [
    "## Instantiate and Initialize an object of class Robot\n",
    "**You need to run the below cell only once after the notebook is started. It intializes the communication channels to send/receive data to/from the simulator.**"
   ]
  },
  {
   "cell_type": "code",
   "execution_count": 2,
   "metadata": {},
   "outputs": [
    {
     "name": "stdout",
     "output_type": "stream",
     "text": [
      "Using python version: 3.6.9 (default, Jul 17 2020, 12:50:27) \n",
      "[GCC 8.4.0]\n"
     ]
    }
   ],
   "source": [
    "robot = Robot()\n",
    "robot.initialize()"
   ]
  },
  {
   "cell_type": "markdown",
   "metadata": {},
   "source": [
    "## Get Robot Odometry Pose\n",
    "To get the latest odometry robot pose estimate, use the member function ***get_pose*** which returns a tuple of the format $(x, y, yaw)$ with units $(meters, meters, radians)$\n",
    "\n",
    "## Get Ground Truth\n",
    "To get the latest ground truth robot pose information, use the member function ***get_gt_pose*** which returns a tuple of the format $(x, y, yaw)$ with units $(meters, meters, radians)$"
   ]
  },
  {
   "cell_type": "code",
   "execution_count": 37,
   "metadata": {},
   "outputs": [
    {
     "name": "stdout",
     "output_type": "stream",
     "text": [
      "Real X coordinate (m):-0.863256963417864\n",
      "Real Y coordinate (m):-1.51661192096109\n",
      "Real angle (degrees):-1.0828857372998746\n",
      "Measured X coordinate (m):3.8748725550540155\n",
      "Measured Y coordinate (m):-8.902201672605617\n",
      "Measured angle (degrees):85.60303022960346\n"
     ]
    }
   ],
   "source": [
    "# Use this data cell to test the member functions\n",
    "(xg,yg,tg) = robot.get_gt_pose()\n",
    "thetag = tg*180/3.141592653589793238462\n",
    "print(\"Real X coordinate (m):{}\".format(xg))\n",
    "print(\"Real Y coordinate (m):{}\".format(yg))\n",
    "print(\"Real angle (degrees):{}\".format(thetag))\n",
    "robot.send_to_plot(x,y,GT)\n",
    "(x, y, t) = robot.get_pose()\n",
    "theta = t*180/3.141592653589793238462\n",
    "print(\"Measured X coordinate (m):{}\".format(x))\n",
    "print(\"Measured Y coordinate (m):{}\".format(y))\n",
    "print(\"Measured angle (degrees):{}\".format(theta))\n",
    "robot.send_to_plot(x,y,ODOM)"
   ]
  },
  {
   "cell_type": "markdown",
   "metadata": {},
   "source": [
    "# Plotting Points\n",
    "We can send data points to the plotter for plotting using the member function ***send_to_plot(x, y, plot_type)*** where ***x*** and ***y*** denote the position of the point, and ***plot_type*** can be *ODOM, GT, MAP or BELIEF*. The color of the plotted point depends on the ***plot_type***.\n",
    "\n",
    "**Make sure the plotter tool is running.**"
   ]
  },
  {
   "cell_type": "code",
   "execution_count": 28,
   "metadata": {},
   "outputs": [],
   "source": [
    "# Plot a point at (1,2) for ODOM (in red)\n",
    "robot.send_to_plot(1, 2, ODOM)\n",
    "\n",
    "# Plot a point at (2,2) for GT (in green)\n",
    "robot.send_to_plot(2, 2, GT)"
   ]
  },
  {
   "cell_type": "markdown",
   "metadata": {},
   "source": [
    "You can zoom in/out of the plot, and use the various buttons in the plotter tool."
   ]
  },
  {
   "cell_type": "markdown",
   "metadata": {},
   "source": [
    "# Plotting trajectories based on odometry and ground truth\n",
    "\n",
    "You will need to **repeatedly** send points to the plottter to plot the odometry and groundtruth trajectories as the robot moves. Use the *keyboard teleoperation tool* to move the robot in its environment. As the robot moves, you need to get the latest odometry and ground truth pose estimates and send it to the plotter.\n",
    "\n",
    "Write your plot updation code within the function *update_plot()*, which is then subsequently called in the last line of the cell. Use the ***time.sleep()*** function to prevent updating too often. <br>\n",
    "\n",
    "- Make sure your simulator and plotter are running.\n",
    "- Use the keyboard teleoperation tool to move the robot in its environment.\n",
    "- Make changes to the function *update_plot(robot)*  and click the <button class='btn btn-default btn-xs'><i class=\"icon-step-forward fa fa-play\"></i></button> to run the below cell.\n",
    "- Click the <button class='btn btn-default btn-xs'><i class='icon-stop fa fa-stop'></i></button> button to stop the cell i.e the plotter updation code. <br>\n",
    "- When the cell is running, you can notice a **[ \\* ]** to the left of the cell.\n",
    "- Make sure to stop the cell before making changes to the cell.\n",
    "- **Dont forget to save your changes before quitting the jupyter server or closing this notebook.**\n"
   ]
  },
  {
   "cell_type": "code",
   "execution_count": 43,
   "metadata": {},
   "outputs": [
    {
     "ename": "KeyboardInterrupt",
     "evalue": "",
     "output_type": "error",
     "traceback": [
      "\u001b[0;31m---------------------------------------------------------------------------\u001b[0m",
      "\u001b[0;31mKeyboardInterrupt\u001b[0m                         Traceback (most recent call last)",
      "\u001b[0;32m<ipython-input-43-4d836561e5a9>\u001b[0m in \u001b[0;36m<module>\u001b[0;34m\u001b[0m\n\u001b[1;32m      9\u001b[0m \u001b[0;32mwhile\u001b[0m \u001b[0;32mTrue\u001b[0m\u001b[0;34m:\u001b[0m\u001b[0;34m\u001b[0m\u001b[0;34m\u001b[0m\u001b[0m\n\u001b[1;32m     10\u001b[0m     \u001b[0mupdate_plot\u001b[0m\u001b[0;34m(\u001b[0m\u001b[0mrobot\u001b[0m\u001b[0;34m)\u001b[0m\u001b[0;34m\u001b[0m\u001b[0;34m\u001b[0m\u001b[0m\n\u001b[0;32m---> 11\u001b[0;31m     \u001b[0mtime\u001b[0m\u001b[0;34m.\u001b[0m\u001b[0msleep\u001b[0m\u001b[0;34m(\u001b[0m\u001b[0;36m0.1\u001b[0m\u001b[0;34m)\u001b[0m\u001b[0;34m\u001b[0m\u001b[0;34m\u001b[0m\u001b[0m\n\u001b[0m",
      "\u001b[0;31mKeyboardInterrupt\u001b[0m: "
     ]
    }
   ],
   "source": [
    "def update_plot(robot):\n",
    "   # Code goes here\n",
    "    (xg,yg,tg) = robot.get_gt_pose()\n",
    "    thetag = tg*180/3.141592653589793238462\n",
    "    robot.send_to_plot(xg,yg,GT)\n",
    "    (x, y, t) = robot.get_pose()\n",
    "    theta = t*180/3.141592653589793238462\n",
    "    robot.send_to_plot(x,y,ODOM)\n",
    "while True:\n",
    "    update_plot(robot)\n",
    "    time.sleep(0.1)"
   ]
  }
 ],
 "metadata": {
  "kernelspec": {
   "display_name": "Python 3",
   "language": "python",
   "name": "python3"
  },
  "language_info": {
   "codemirror_mode": {
    "name": "ipython",
    "version": 3
   },
   "file_extension": ".py",
   "mimetype": "text/x-python",
   "name": "python",
   "nbconvert_exporter": "python",
   "pygments_lexer": "ipython3",
   "version": "3.6.9"
  }
 },
 "nbformat": 4,
 "nbformat_minor": 4
}
