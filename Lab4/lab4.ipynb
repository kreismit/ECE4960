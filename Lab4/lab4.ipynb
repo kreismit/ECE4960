{
 "cells": [
  {
   "cell_type": "markdown",
   "metadata": {},
   "source": [
    "# Lab 4\n",
    "### ECE 4960 (Fall 2020)\n",
    "<hr>"
   ]
  },
  {
   "cell_type": "markdown",
   "metadata": {},
   "source": [
    "## Simulator\n",
    "- The robot simulator simulates a differential drive, wheeled robot with a laser range finder, similar to our physical robot.\n",
    "- The laser range finder is located at the front and center portion of the robot.\n",
    "- In the simulator window, select \"View->Data\" or press \\<d\\> on your keyboard to visualize the range finder.\n",
    "\n",
    "## Robot Class\n",
    "It provides a control interface for the robot in the simulator. It setups up a communication channel to send/receive data to/from the smulator appication to perform the following operations:\n",
    "- Get robot odometry pose\n",
    "- Move the robot\n",
    "- Get range finder data\n",
    "\n",
    "In this lab, we focus on how to use the robot class to perform the first two operations.\n",
    "\n",
    "<hr>"
   ]
  },
  {
   "cell_type": "markdown",
   "metadata": {},
   "source": [
    "## Import necessary modules"
   ]
  },
  {
   "cell_type": "code",
   "execution_count": 2,
   "metadata": {},
   "outputs": [],
   "source": [
    "# Automatically reload changes in python modules\n",
    "%load_ext autoreload\n",
    "%autoreload 2\n",
    "\n",
    "# Import robot class\n",
    "from robot_interface import *\n",
    "\n",
    "import time\n",
    "import numpy as np\n",
    "import rospy\n",
    "from random import uniform"
   ]
  },
  {
   "cell_type": "markdown",
   "metadata": {},
   "source": [
    "## Instantiate and Initialize an object of class Robot\n",
    "**You need to run the below cell only once after the notebook is started. It intializes the communication channels to send/receive data to/from the simulator.**"
   ]
  },
  {
   "cell_type": "code",
   "execution_count": 3,
   "metadata": {},
   "outputs": [
    {
     "name": "stdout",
     "output_type": "stream",
     "text": [
      "Using python version: 3.6.9 (default, Jul 17 2020, 12:50:27) \n",
      "[GCC 8.4.0]\n"
     ]
    }
   ],
   "source": [
    "robot = Robot()\n",
    "robot.initialize()"
   ]
  },
  {
   "cell_type": "markdown",
   "metadata": {},
   "source": [
    "<hr>\n",
    "\n",
    "## Get Robot Odometry Pose\n",
    "To get the latest robot pose information, use the member function ***get_pose*** which returns a tuple of the format $(x, y, yaw)$ with units $(meters, meters, radians)$"
   ]
  },
  {
   "cell_type": "code",
   "execution_count": 4,
   "metadata": {},
   "outputs": [
    {
     "name": "stdout",
     "output_type": "stream",
     "text": [
      "Robot Odom Pose:  (0.3074904717539727, 0.7242339933988612, -0.26737889789370134)\n"
     ]
    }
   ],
   "source": [
    "# You may notice running this cell repeatedly even without \n",
    "# moving the robot produces different pose values.\n",
    "# This is because the odometry is noisy.\n",
    "\n",
    "pose = robot.get_pose()          # yep, the values keep changing!\n",
    "print(\"Robot Odom Pose: \", pose) # they stay within around ±0.1 though"
   ]
  },
  {
   "cell_type": "markdown",
   "metadata": {},
   "source": [
    "## Move the robot\n",
    "- The robot module also sends information to the simulator to set the robot velocity. <br>\n",
    "- The robot is modelled as a differential drive system and takes in a linear and an angular velocity. <br>\n",
    "- Use the member function ***set_vel(linear_velocity, angular_velocity)*** to set the command velocity for the robot. <br>\n",
    "- The units for linear and angular velocities are meters/second and radians/second, respectively."
   ]
  },
  {
   "cell_type": "code",
   "execution_count": 5,
   "metadata": {},
   "outputs": [],
   "source": [
    "# Sets a linear velocity of 0.2m/s and angular velocity of 0.3radians/s and hence the robot executes a cirucular arc motion\n",
    "# Try out different values\n",
    "robot.set_vel(v=0.2,w=0.3)   # and it hit the wall."
   ]
  },
  {
   "cell_type": "markdown",
   "metadata": {},
   "source": [
    "### Publish a linear velocity of 0.5m/s for a 0.5 seconds interval and stop the robot."
   ]
  },
  {
   "cell_type": "code",
   "execution_count": 6,
   "metadata": {},
   "outputs": [],
   "source": [
    "robot.set_vel(0.5,0)\n",
    "time.sleep(0.5)\n",
    "\n",
    "robot.set_vel(0,0)"
   ]
  },
  {
   "cell_type": "markdown",
   "metadata": {},
   "source": [
    "# Open Loop Controller\n",
    "Write a python code snippet in the cell below to make the robot follow a rectangular(ish) loop of any size. <br>\n",
    "It does not have be a perfect rectangle or a perfect loop. <br>\n",
    "**Make sure your simulator is running :)** <br>\n",
    "**Dont forgot to save your notebook after making valid changes to it.**"
   ]
  },
  {
   "cell_type": "code",
   "execution_count": 44,
   "metadata": {},
   "outputs": [],
   "source": [
    "# Your code goes here\n",
    "for i in range(4):\n",
    "    robot.set_vel(1,0)\n",
    "    time.sleep(0.5)\n",
    "    robot.set_vel(0,1)\n",
    "    time.sleep(1.568)\n",
    "robot.set_vel(0,0)"
   ]
  },
  {
   "cell_type": "code",
   "execution_count": 43,
   "metadata": {},
   "outputs": [],
   "source": [
    "# This is just for repositioning after I'm done\n",
    "robot.set_vel(0,-0.5)\n",
    "time.sleep(0.1)\n",
    "robot.set_vel(0,0)"
   ]
  }
 ],
 "metadata": {
  "kernelspec": {
   "display_name": "Python 3",
   "language": "python",
   "name": "python3"
  },
  "language_info": {
   "codemirror_mode": {
    "name": "ipython",
    "version": 3
   },
   "file_extension": ".py",
   "mimetype": "text/x-python",
   "name": "python",
   "nbconvert_exporter": "python",
   "pygments_lexer": "ipython3",
   "version": "3.6.9"
  }
 },
 "nbformat": 4,
 "nbformat_minor": 4
}
