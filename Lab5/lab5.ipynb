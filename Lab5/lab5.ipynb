{
 "cells": [
  {
   "cell_type": "markdown",
   "metadata": {},
   "source": [
    "# Lab 5\n",
    "### ECE 4960 (Fall 2020)\n",
    "<hr>"
   ]
  },
  {
   "cell_type": "markdown",
   "metadata": {},
   "source": [
    "## Simulator\n",
    "- The robot simulator simulates a differential drive, wheeled robot with a laser range finder, similar to our physical robot.\n",
    "- The laser range finder is located at the front and center portion of the robot.\n",
    "- In the simulator window, select \"View->Data\" or press \\<d\\> on your keyboard to visualize the range finder.\n",
    "\n",
    "## Robot Class\n",
    "It provides a control interface for the robot in the simulator. It setups up a communication channel to send/receive data to/from the smulator appication to perform the following operations:\n",
    "- Get robot odometry pose\n",
    "- Move the robot\n",
    "- Get range finder data\n",
    "\n",
    "In this lab, we will learn how to use the robot class to perform all the operations.\n",
    "\n",
    "<hr>"
   ]
  },
  {
   "cell_type": "markdown",
   "metadata": {},
   "source": [
    "## Import necessary modules"
   ]
  },
  {
   "cell_type": "code",
   "execution_count": 1,
   "metadata": {},
   "outputs": [],
   "source": [
    "# Automatically reload changes in python modules\n",
    "%load_ext autoreload\n",
    "%autoreload 2\n",
    "\n",
    "# Import robot class\n",
    "from robot_interface import *\n",
    "\n",
    "import time\n",
    "import numpy as np\n",
    "import rospy\n",
    "from random import uniform"
   ]
  },
  {
   "cell_type": "markdown",
   "metadata": {},
   "source": [
    "## Instantiate and Initialize an object of class Robot\n",
    "**You need to run the below cell only once after the notebook is started. It intializes the communication channels to send/receive data to/from the simulator.**"
   ]
  },
  {
   "cell_type": "code",
   "execution_count": 2,
   "metadata": {},
   "outputs": [
    {
     "name": "stdout",
     "output_type": "stream",
     "text": [
      "Using python version: 3.6.9 (default, Jul 17 2020, 12:50:27) \n",
      "[GCC 8.4.0]\n"
     ]
    }
   ],
   "source": [
    "robot = Robot()\n",
    "robot.initialize()"
   ]
  },
  {
   "cell_type": "markdown",
   "metadata": {},
   "source": [
    "<hr>\n",
    "\n",
    "## Get Robot Odometry Pose\n",
    "To get the latest robot pose information, use the member function ***get_pose*** which returns a tuple of the format $(x, y, yaw)$ with units $(meters, meters, radians)$"
   ]
  },
  {
   "cell_type": "code",
   "execution_count": 3,
   "metadata": {},
   "outputs": [
    {
     "name": "stdout",
     "output_type": "stream",
     "text": [
      "Robot Odom Pose:  (0.016602344130348758, 0.028508222311406928, 0.6487408648678386)\n"
     ]
    }
   ],
   "source": [
    "# You may notice running this cell repeatedly even without \n",
    "# moving the robot produces different pose values.\n",
    "# This is because the odometry is noisy.\n",
    "\n",
    "pose = robot.get_pose()\n",
    "print(\"Robot Odom Pose: \", pose)"
   ]
  },
  {
   "cell_type": "markdown",
   "metadata": {},
   "source": [
    "## Move the robot\n",
    "- The robot module also sends information to the simulator to set the robot velocity. <br>\n",
    "- The robot is modelled as a differential drive system and takes in a linear and an angular velocity. <br>\n",
    "- Use the member function ***set_vel(linear_velocity, angular_velocity)*** to set the command velocity for the robot. <br>\n",
    "- The units for linear and angular velocities are meters/second and radians/second, respectively."
   ]
  },
  {
   "cell_type": "code",
   "execution_count": 4,
   "metadata": {},
   "outputs": [],
   "source": [
    "# Sets a linear velocity of 0.2m/s and angular velocity of 0.3radians/s and hence the robot executes a cirucular arc motion\n",
    "# Try out different values\n",
    "robot.set_vel(v=0.2,w=0.3)"
   ]
  },
  {
   "cell_type": "markdown",
   "metadata": {},
   "source": [
    "### Publish a linear velocity of 0.5m/s for a 0.5 seconds interval and stop the robot."
   ]
  },
  {
   "cell_type": "code",
   "execution_count": 5,
   "metadata": {},
   "outputs": [],
   "source": [
    "robot.set_vel(0.5,0)\n",
    "time.sleep(0.5)\n",
    "\n",
    "robot.set_vel(0,0)"
   ]
  },
  {
   "cell_type": "markdown",
   "metadata": {},
   "source": [
    "## Get Range Finder Data\n",
    "To get data from the robot's range finder, use the **get_laser_data** member function. <br>\n",
    "Press \\<d\\> in the simulator application or select \"View->Data\" to visualize the range finder in the simulator."
   ]
  },
  {
   "cell_type": "code",
   "execution_count": 3,
   "metadata": {},
   "outputs": [
    {
     "data": {
      "text/plain": [
       "3.485929012298584"
      ]
     },
     "execution_count": 3,
     "metadata": {},
     "output_type": "execute_result"
    }
   ],
   "source": [
    "# You may notice running this cell repeatedly even when \n",
    "# the robot is standing still produces different range values.\n",
    "# This is because the sensor is noisy.\n",
    "\n",
    "robot.get_laser_data()"
   ]
  },
  {
   "cell_type": "markdown",
   "metadata": {},
   "source": [
    "# Obstacle Avoidance\n",
    "Use the member functions *get_laser_data()* and *set_vel()* to perform obstacle avoidance. <br> \n",
    "Write the obstacle avoidance code under the function definition *perform_obstacle_avoidance()*, which is then subsequently called in the last line of the cell. <br>\n",
    "\n",
    "- Make sure your simulator is running :)\n",
    "- Make changes to the function *perform_obstacle_avoidance(robot)*  and click the <button class='btn btn-default btn-xs'><i class=\"icon-step-forward fa fa-play\"></i></button> to run the below cell.\n",
    "- Since the function has a never ending loop, click the <button class='btn btn-default btn-xs'><i class='icon-stop fa fa-stop'></i></button> button to stop the cell i.e the obstacle avoidance code. <br>\n",
    "- When the cell is running, you can notice a **[ \\* ]** to the left of the cell.\n",
    "- Make sure to stop the cell before making changes to the cell.\n",
    "- **Dont forget to save your changes before quitting the jupyter server or closing this notebook.**\n"
   ]
  },
  {
   "cell_type": "code",
   "execution_count": null,
   "metadata": {},
   "outputs": [],
   "source": [
    "## Simplified obstacle avoidance code using only right angles\n",
    "def perform_obstacle_avoidance(robot):\n",
    "    turnThisMuch = 91*3.14159/180;           # turn a little bit more than 90°\n",
    "    while True:\n",
    "        # Obstacle avoidance code goes here\n",
    "        if robot.get_laser_data()<0.5:\n",
    "            robot.set_vel(0.0,0.5)  # turn\n",
    "            initialAngle = robot.get_pose()[2]\n",
    "            angleTurned = 0\n",
    "            # print(\"Turning...\")             # for debugging\n",
    "            while abs(angleTurned) < turnThisMuch: # turn, then read again\n",
    "                angleTurned = robot.get_pose()[2]-initialAngle\n",
    "                # print(angleTurned)          # for debugging\n",
    "                time.sleep(0.001)\n",
    "            robot.set_vel(0,0)\n",
    "            # print(\"Finished turning\")         # for debugging\n",
    "        else:\n",
    "            robot.set_vel(0.5,0)  # drive straight\n",
    "        time.sleep(0.1)\n",
    "           \n",
    "perform_obstacle_avoidance(robot)"
   ]
  },
  {
   "cell_type": "code",
   "execution_count": 12,
   "metadata": {},
   "outputs": [
    {
     "name": "stdout",
     "output_type": "stream",
     "text": [
      "1.00236018154719\n"
     ]
    }
   ],
   "source": [
    "## Test the turning logic\n",
    "robot.set_vel(0.0,0.5)  # turn\n",
    "initialAngle = robot.get_pose()[2]\n",
    "print(initialAngle)\n",
    "angleTurned = 0\n",
    "while angleTurned < 0.5: # turn about 30 degrees, then read again\n",
    "    angleTurned = robot.get_pose()[2]-initialAngle\n",
    "robot.set_vel(0,0)"
   ]
  },
  {
   "cell_type": "code",
   "execution_count": null,
   "metadata": {},
   "outputs": [],
   "source": [
    "## A try at using arcs to avoid crashing into walls\n",
    "def perform_obstacle_avoidance(robot):\n",
    "    turnThisMuch = 45*3.14159/180;\n",
    "    while True:\n",
    "        # Obstacle avoidance code goes here\n",
    "        if robot.get_laser_data()<0.5:\n",
    "            robot.set_vel(0.0,0.5)  # turn\n",
    "            initialAngle = robot.get_pose()[2]\n",
    "            angleTurned = 0\n",
    "            while angleTurned < turnThisMuch: # turn 45 degrees, then read again\n",
    "                angleTurned = robot.get_pose()[2]-initialAngle\n",
    "                #print(angleTurned)  # for debugging\n",
    "                time.sleep(0.001)\n",
    "            robot.set_vel(0,0)\n",
    "        else:\n",
    "            robot.set_vel(0.5,0.05)  # drive in a slight curve since we will\n",
    "                                    # never be exactly parallel to a wall\n",
    "        time.sleep(0.1)\n",
    "           \n",
    "perform_obstacle_avoidance(robot)"
   ]
  }
 ],
 "metadata": {
  "kernelspec": {
   "display_name": "Python 3",
   "language": "python",
   "name": "python3"
  },
  "language_info": {
   "codemirror_mode": {
    "name": "ipython",
    "version": 3
   },
   "file_extension": ".py",
   "mimetype": "text/x-python",
   "name": "python",
   "nbconvert_exporter": "python",
   "pygments_lexer": "ipython3",
   "version": "3.6.9"
  }
 },
 "nbformat": 4,
 "nbformat_minor": 4
}
