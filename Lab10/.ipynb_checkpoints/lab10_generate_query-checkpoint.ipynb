{
 "cells": [
  {
   "cell_type": "markdown",
   "metadata": {},
   "source": [
    "# Generate a random start and goal cell in the occupancy grid\n",
    "\n",
    "This notebook shows you how to use the class **PlannerQuery** to generate a random start and goal cell in an occupancy grid."
   ]
  },
  {
   "cell_type": "markdown",
   "metadata": {},
   "source": [
    "## class PlannerQuery\n",
    "A class to generate random start and goal cells given an occupancy grid. <br>\n",
    "Its requires an argument <span style=\"color:rgb(100,191,100)\">grid</span>, which is a 2D binary numpy matrix representing the occupancy grid. Refer to the lab10 documentation for more info.\n",
    "\n",
    "### Member Functions:\n",
    "- <span style=\"color:rgb(255,191,0)\">**generate()**</span>:  Returns a random start and goal cell. Set the argument **plot** to *True* if you want to visualize the start and goal cell in the grid map.\n"
   ]
  },
  {
   "cell_type": "code",
   "execution_count": null,
   "metadata": {},
   "outputs": [],
   "source": [
    "from planner_query import *"
   ]
  },
  {
   "cell_type": "markdown",
   "metadata": {},
   "source": [
    "### The cell below generates 10 different start and goal cells based on the occupancy grid encoded in the **grid** variable. \n",
    "\n",
    "### Each plot showcases the obstacles in white, while the start and goals cells are depicted in red and green, respectively."
   ]
  },
  {
   "cell_type": "code",
   "execution_count": null,
   "metadata": {},
   "outputs": [],
   "source": [
    "grid=[1,1,1,1,0,0,0,0,0,0,0,0,0,0,0,0,0,0,0,0,0,0,0,\n",
    "      1,0,0,1,1,1,1,1,1,1,1,1,0,0,0,0,0,0,0,0,0,0,0,\n",
    "      1,0,0,0,0,0,0,0,0,0,0,0,1,0,0,0,0,1,1,1,1,1,1,\n",
    "      1,0,0,0,0,0,0,0,0,0,0,0,1,0,0,0,0,1,0,0,0,0,1,\n",
    "      1,0,0,0,0,0,0,0,0,0,0,0,1,1,1,1,1,1,0,0,0,0,1,\n",
    "      1,0,0,0,0,0,0,0,0,0,0,0,0,0,0,0,0,0,0,0,0,0,1,\n",
    "      1,0,0,0,0,0,0,0,0,0,0,0,0,0,0,0,0,0,0,0,0,0,1,\n",
    "      1,1,1,1,1,0,0,0,1,0,0,0,0,0,0,0,0,0,0,0,0,0,1,\n",
    "      0,0,0,0,1,0,0,0,1,1,1,1,1,1,1,1,0,0,0,0,0,0,1,\n",
    "      0,0,0,0,1,0,0,0,1,1,0,0,0,0,0,0,1,1,1,1,1,1,1,\n",
    "      0,0,0,0,1,0,0,0,0,1,0,0,0,0,0,0,0,0,0,0,0,0,0,\n",
    "      0,0,0,0,1,0,0,0,0,1,0,0,0,0,0,0,0,0,0,0,0,0,0,\n",
    "      0,0,0,0,1,0,0,0,0,1,0,0,0,0,0,0,0,0,0,0,0,0,0,\n",
    "      0,0,0,0,1,0,0,0,0,1,0,0,0,0,0,0,0,0,0,0,0,0,0,\n",
    "      0,0,0,0,1,0,0,0,0,1,0,0,0,0,0,0,0,0,0,0,0,0,0,\n",
    "      0,0,0,0,1,0,0,0,0,1,0,0,0,0,0,0,0,0,0,0,0,0,0,\n",
    "      0,0,0,0,1,1,1,1,1,1,0,0,0,0,0,0,0,0,0,0,0,0,0]\n",
    "\n",
    "# Convert the 1D list into a 1D numpy array\n",
    "grid = np.array(grid, dtype=np.uint8)\n",
    "\n",
    "# Convert the 1D numpy array into an appropriate 2D numpy array\n",
    "grid.resize(17,23)\n",
    "\n",
    "# Instantiate the class PlannerQuery\n",
    "pq = PlannerQuery(grid)\n",
    "\n",
    "for i in range(0,10):\n",
    "    # Generate a start and goal pair\n",
    "    x = pq.generate(plot=True)\n",
    "    print(\"-----------------\")"
   ]
  }
 ],
 "metadata": {
  "kernelspec": {
   "display_name": "Python 3",
   "language": "python",
   "name": "python3"
  },
  "language_info": {
   "codemirror_mode": {
    "name": "ipython",
    "version": 3
   },
   "file_extension": ".py",
   "mimetype": "text/x-python",
   "name": "python",
   "nbconvert_exporter": "python",
   "pygments_lexer": "ipython3",
   "version": "3.6.9"
  }
 },
 "nbformat": 4,
 "nbformat_minor": 4
}
