{
 "cells": [
  {
   "cell_type": "markdown",
   "metadata": {},
   "source": [
    "# Lab 7(b): Mapping\n",
    "<hr>\n",
    "\n",
    "In this lab you will use the line segments that describe your map and visualize it in the plotter. <br>\n",
    "The generated map will be used in future labs and so it is a good idea to check if it looks as expected."
   ]
  },
  {
   "cell_type": "code",
   "execution_count": 1,
   "metadata": {},
   "outputs": [],
   "source": [
    "# Automatically reload changes in python modules\n",
    "%load_ext autoreload\n",
    "%autoreload 2\n",
    "\n",
    "# Import robot class\n",
    "from robot_interface import *\n",
    "\n",
    "import time\n",
    "import numpy as np\n",
    "import rospy\n",
    "from Traj import Trajectory\n",
    "from copy import deepcopy"
   ]
  },
  {
   "cell_type": "markdown",
   "metadata": {},
   "source": [
    "# Map representation\n",
    "The map is represented by a set of line segments. <br>\n",
    "Each line segment is described by a start point (x,y) and an end point (x',y'). <br>\n",
    "\n",
    "In the cell below, replace the contents of the 2D array **start_points** such that it contains the start points (x,y) of each line segment. <br>\n",
    "Similarly, replace the contents of the 2D array **end_points** such that it contains the corresponding end points (x',y') of each line segment."
   ]
  },
  {
   "cell_type": "code",
   "execution_count": 7,
   "metadata": {},
   "outputs": [],
   "source": [
    "# Start points for each line segment describing the map\n",
    "start_points = np.genfromtxt(\"StartPoints.csv\", delimiter=\",\")\n",
    "\n",
    "# End points for each line segment describing the map\n",
    "end_points = np.genfromtxt(\"EndPoints.csv\", delimiter=\",\")\n",
    "\n",
    "# Check if map described by start_points and end_points is valid\n",
    "if(not is_map_valid(start_points, end_points)):\n",
    "    raise Exception(\"The definitions of start_points and end_points are not valid. Please make sure the number of points are equal.\")"
   ]
  },
  {
   "cell_type": "markdown",
   "metadata": {},
   "source": [
    "# Visualize Map in Plotter\n",
    "**Make sure the plotter is running**"
   ]
  },
  {
   "cell_type": "code",
   "execution_count": 8,
   "metadata": {},
   "outputs": [
    {
     "name": "stdout",
     "output_type": "stream",
     "text": [
      "Using python version: 3.6.9 (default, Jul 17 2020, 12:50:27) \n",
      "[GCC 8.4.0] \n",
      "\n",
      "Initializing Node\n",
      "Initializing Virtual Robot\n",
      "Initial Pose:  (10, 10, 9)\n",
      "Initializing belief with a Point mass Distribution at:  (10, 10, 9)\n"
     ]
    }
   ],
   "source": [
    "# Initialize Robot to communicate with the virtual/real robot and plotter\n",
    "robot = VirtualRobot()\n",
    "\n",
    "# Initialize mapper\n",
    "# Requires a VirtualRobot object as input\n",
    "mapper = Mapper(min_x=-2, max_x=2, min_y=-2, max_y=2, min_a=-180, max_a=180,\n",
    "                cell_size_x=0.2, cell_size_y=0.2, cell_size_a=20,\n",
    "                max_cells_x=20, max_cells_y=20, max_cells_a=18,\n",
    "                ray_length=6, lines=[start_points, end_points], obs_per_cell=18, robot=robot)\n",
    "\n",
    "# Initialize your localization object for plotting\n",
    "# Requires a robot VirtualRobot object and a Mapper object as inputs\n",
    "loc = BaseLocalization(robot, mapper)\n",
    "\n",
    "# Clear map before visualizing\n",
    "loc.plotter.reset_map()\n",
    "\n",
    "# Visualize the map (described by start_points and end_points) in the plotter\n",
    "loc.plotter.visualize_map()"
   ]
  }
 ],
 "metadata": {
  "kernelspec": {
   "display_name": "Python 3",
   "language": "python",
   "name": "python3"
  },
  "language_info": {
   "codemirror_mode": {
    "name": "ipython",
    "version": 3
   },
   "file_extension": ".py",
   "mimetype": "text/x-python",
   "name": "python",
   "nbconvert_exporter": "python",
   "pygments_lexer": "ipython3",
   "version": "3.6.9"
  }
 },
 "nbformat": 4,
 "nbformat_minor": 4
}
