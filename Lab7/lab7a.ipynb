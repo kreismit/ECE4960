{
 "cells": [
  {
   "cell_type": "markdown",
   "metadata": {},
   "source": [
    "# Lab 7(a): Grid Localization using Bayes Filter\n",
    "\n",
    "### <span style=\"color:rgb(0,150,0)\">It is recommended that you close any heavy-duty applications running on your system while working on this lab.</span>\n",
    "\n",
    "<hr>\n"
   ]
  },
  {
   "cell_type": "markdown",
   "metadata": {},
   "source": [
    "# Python Classes\n",
    "There are five major classes (VirtualRobot, Mapper, BaseLocalization, Plotter and Trajectory)  defined in **robot_interface.py** that provide you with the necessary functions and variables for working your way through the lab. \n",
    "In this notebook, we discuss only the relevant functions and variables that are of use for this lab. \n",
    "You may refer to the python file for an understanding of how the various function work, however, this is not entirely necessary as the Jupyter notebook should provide you with all the necesary information.\n",
    "<hr>"
   ]
  },
  {
   "cell_type": "markdown",
   "metadata": {},
   "source": [
    "## VirtualRobot\n",
    "The class provides member functions required to interact with the virtual robot in the simulator. <br> \n",
    "\n",
    "### Member Functions:\n",
    "- <span style=\"color:rgb(255,191,0)\">**get_pose()**</span>:  Returns the latest odometry robot pose estimate as a tuple of the format $(x, y, yaw)$ with units $(meters, meters, degrees)$.\n",
    "\n",
    "- <span style=\"color:rgb(255,191,0)\">**get_gt_pose()**</span>: Returns the latest ground truth robot pose as a tuple of the format $(x, y, yaw)$ with units $(meters, meters, degrees)$.\n",
    "\n",
    "**Make sure the simulator is running.** <br>\n",
    "**Notice the above functions provide angle information in degrees.**\n",
    "\n",
    "<hr>"
   ]
  },
  {
   "cell_type": "markdown",
   "metadata": {},
   "source": [
    "## Mapper\n",
    "The class provides member functions to handle various operations related to the grid map. <br>\n",
    "The discrete grid map spans a world of $(-2, 2)~meters$ in the x-axis, $(-2,2)~meters$ in the y-axis and $(-180, 180)~degrees$ in the angle-axis. <br>\n",
    "The grid cell size in the x, y, and angle axes are 0.2 m, 0.2 m and 20 deg, respectively. <br>\n",
    "The grid has $(20, 20, 18)$ cells along the different dimensions, with a total number of 7200 cells. <br>   \n",
    "\n",
    "### Member Functions:\n",
    "- <span style=\"color:rgb(255,191,0)\">**from_map(cx, cy, ca)**</span>: Returns the continous world coordinates *(x,y,a)* of the center of the grid cell index *(cx, cy, ca)*. \n",
    "- <span style=\"color:rgb(255,191,0)\">**to_map(x, y, a)**</span>: Returns the grid map cell index *(cx, cy, ca)* of the continous world coordinates *(x,y,a)*.\n",
    "- <span style=\"color:rgb(255,191,0)\">**normalize_angle(a)**</span>: Normalizes the angle *a* to the interval \\[-180, 180).\n",
    "- <span style=\"color:rgb(255,191,0)\">**get_views(cx, cy, ca)**</span>: Returns a 1D array of the precached true measurements (views) at a given grid cell index *(cx, cy, ca)*. The true measurements are calculated offline by performing ray cast operations from the center of each cell in the map.\n",
    "\n",
    "### Member Variables:\n",
    "- <span style=\"color:rgb(100,191,100)\">**MAX_CELLS_X**</span>: Maximum number of grid cells in the X direction.\n",
    "- <span style=\"color:rgb(100,191,100)\">**MAX_CELLS_Y**</span>: Maximum number of grid cells in the Y direction.\n",
    "- <span style=\"color:rgb(100,191,100)\">**MAX_CELLS_A**</span>: Maximum number of grid cells in the A direction.\n",
    "- <span style=\"color:rgb(100,191,100)\">**OBS_PER_CELL**</span>: Number of observations per cell. This is set to 18.\n",
    "- <span style=\"color:rgb(100,191,100)\">**obs_views**</span>: A 4D Numpy array where the first three dimensions represents the cell index (cx, cy, ca) and the fourth dimension represents the precached true measurements (views). Hence the size of the cell is (20,20,18,18). You may think of it as a 3D array representing the grid where each cell stores 18 precached true measurements calculated using ray casting from the center of that cell.\n",
    "\n",
    "**Do not change the map properties such as discretization size, map size, maximum number of cells, etc.**\n",
    "<hr>"
   ]
  },
  {
   "cell_type": "markdown",
   "metadata": {},
   "source": [
    "## Plotter\n",
    "The Plotter class provides various member functions to plot and visualize data. <br>\n",
    "\n",
    "### Member Functions:\n",
    "\n",
    "- <span style=\"color:rgb(255,191,0)\">**plot_point(x, y, plot_type)**</span>: Plots a point at the position *x*,*y*. The color of the plotted point depends on *plot_type* which can be equal to one of the following: *ODOM, GT, or BEL* for blue, green or yellow, respectively.\n",
    "\n",
    "- <span style=\"color:rgb(255,191,0)\">**visualize_map()**</span>: Visualizes the map in the plotter as white lines segments as defined in the member variable **lines** of class **Mapper**.\n",
    "\n",
    "- <span style=\"color:rgb(255,191,0)\">**visualize_prior_bel()**</span>: Visualizes the prior belief(i.e belief after the prediction step) in the plotter as a grid map where each cell has a grayscale value depending on the probability of the cell; darkers regions indicate lower probability. **Make sure the \"Dist.\" toggle is switched on in the plotter**.\n",
    "\n",
    "- <span style=\"color:rgb(255,191,0)\">**visualize_bel()**</span>: Visualizes the belief(i.e belief after the update step) in the plotter as a grid map where each cell has a grayscale value depending on the probability of the cell; darkers regions indicate lower probability. **Make sure the \"Dist.\" toggle is switched on in the plotter**.\n",
    "\n",
    "- <span style=\"color:rgb(255,191,0)\">**reset_plot()**</span>: Resets the plots in the plotter. This removes all the previous plotted infomation.\n",
    "\n",
    "- <span style=\"color:rgb(255,191,0)\">**reset_map()**</span>: Clears the map visualization in the plotter.\n",
    "\n",
    "**Make sure the plotter tool is running.**\n",
    "<hr>"
   ]
  },
  {
   "cell_type": "markdown",
   "metadata": {},
   "source": [
    "## BaseLocalization\n",
    "The class provides member functions and member variables required for Grid Localization. <br>\n",
    "Below is a quick summary of the necessary member functions and variables that will be required to complete this lab:\n",
    "\n",
    "### Member Functions:\n",
    "- <span style=\"color:rgb(255,191,0)\">**init_pose(x,y,a)**</span>: Initilize the member variable **bel** with a point mass distribution centered at *(x,y,a)*.\n",
    "- <span style=\"color:rgb(255,191,0)\">**gaussian(x, mu, sigma)**</span>: Returns the relative likelihood of *x* in a Normal Distribion with mean *mu* and standard deviation *sigma*.\n",
    "- <span style=\"color:rgb(255,191,0)\">**get_observation_data()**</span>: Executes a rotation behaviour where the robot rotates in place and collects 18 (=*OBS_PER_CELL*)  range measurements at equidistant angular intervals over a 360 degree space. This mimics a 360 degree laser scanner. The range measurements are stored in the member variable **obs_range_data** of class **BaseLocalization**.\n",
    "- <span style=\"color:rgb(255,191,0)\">**print_prediction_stats(plot_data)**</span>: A helper function that displays statistics after your prediction step and plots the ground truth position (green), odometry position (blue) and visualizes the prior belief (grayscale grid) if *plot_data* is True.\n",
    "- <span style=\"color:rgb(255,191,0)\">**print_update_stats(plot_data)**</span>: A helper function that displays statistics after your update step and plots the belief position (yellow) if *plot_data* is True.\n",
    "\n",
    "### Member Variables:\n",
    "- <span style=\"color:rgb(100,191,100)\">**obs_range_data**</span>: A 1D Numpy array containing range measurements made by a robot after completing a rotation behaviour i.e after calling the function **get_observation_data()**.\n",
    "- <span style=\"color:rgb(100,191,100)\">**bel_bar**</span>: A 3D Numpy array that is used to represent the prior belief of the robot i.e after the most recent prediction step.  \n",
    "- <span style=\"color:rgb(100,191,100)\">**bel**</span>: A 3D Numpy array that is used to represent the belief of the robot i.e after the most recent update step. It is initialized with a point mass distribution centered at $(0~m,0~m,0~m)$ or grid index $(10,10,9)$.\n",
    "- <span style=\"color:rgb(100,191,100)\">**sensor_sigma**</span>: The noise parameter (standard deviation of the Gaussian function) for your sensor model.\n",
    "- <span style=\"color:rgb(100,191,100)\">**odom_rot_sigma**</span>: The noise parameter (standard deviation of the Gaussian function) for rotation in your odometry sensor model.\n",
    "- <span style=\"color:rgb(100,191,100)\">**odom_trans_sigma**</span>: The noise parameter (standard deviation of the Gaussian function) for translation in your odometry sensor model.\n",
    "\n",
    "**Do not change the noise parameters.**\n",
    "<hr>"
   ]
  },
  {
   "cell_type": "markdown",
   "metadata": {},
   "source": [
    "## Trajectory\n",
    "The trajectory class encodes a pre-planned collision free trajectory to be executed by your robot. The class is defined in **Traj.py**. <br>\n",
    "\n",
    "### Member Functions:\n",
    "<span style=\"color:rgb(255,191,0)\">**execute_time_step(t)**</span>: Executes the motion at time step *t* and returns *prev_odom, current_odom, prev_gt, current_gt*.\n",
    "   - prev_odom: odometry pose before executing the motion.    \n",
    "   - current_odom: odometry pose after executing the motion.\n",
    "   - prev_gt     : ground truth pose before executing the motion.\n",
    "   - current_gt  : ground truth pose after executing the motion.\n",
    "\n",
    "### Member Variables:\n",
    "<span style=\"color:rgb(100,191,100)\">**total_time_steps**</span>: The total number of time steps in the trajectory (26). \n",
    "\n",
    "\n",
    "Thus, calling the member function **execute_time_step(t)** repeatedly from t=0 to t=total_time_steps-1 will make the robot execute the entire collision-free, pre-planned trajectory.\n",
    "## <span style=\"color:rgb(240,50,50)\"> Do not use the mouse or the keyboard teleop tool to move the robot while executing the pre-planned trajectory motion. </span>\n",
    "<hr>"
   ]
  },
  {
   "cell_type": "code",
   "execution_count": 5,
   "metadata": {},
   "outputs": [
    {
     "name": "stdout",
     "output_type": "stream",
     "text": [
      "The autoreload extension is already loaded. To reload it, use:\n",
      "  %reload_ext autoreload\n"
     ]
    }
   ],
   "source": [
    "# Automatically reload changes in python modules\n",
    "%load_ext autoreload\n",
    "%autoreload 2\n",
    "\n",
    "# Import classes\n",
    "from robot_interface import *\n",
    "\n",
    "import time\n",
    "import numpy as np\n",
    "import rospy\n",
    "from Traj import Trajectory"
   ]
  },
  {
   "cell_type": "code",
   "execution_count": 9,
   "metadata": {},
   "outputs": [
    {
     "name": "stdout",
     "output_type": "stream",
     "text": [
      "Using python version: 3.6.9 (default, Jul 17 2020, 12:50:27) \n",
      "[GCC 8.4.0] \n",
      "\n",
      "Initializing Node\n",
      "Initializing Virtual Robot\n",
      "Initializing Mapper\n",
      " | Number of observations per grid cell:  18\n",
      " | Precaching Views...\n",
      " | Precaching Time:  38.83055138587952\n",
      "Initial Pose:  (10, 10, 9)\n",
      "Initializing belief with a Point mass Distribution at:  (10, 10, 9)\n"
     ]
    }
   ],
   "source": [
    "# Initialize Robot to communicate with the virtual/real robot and plotter\n",
    "robot = VirtualRobot()\n",
    "\n",
    "# Initialize mapper\n",
    "# Requires a VirtualRobot object as input\n",
    "mapper = init_map(robot)\n",
    "\n",
    "# Initialize your localization object\n",
    "# Requires a robot VirtualRobot object and a Mapper object as inputs\n",
    "loc = BaseLocalization(robot, mapper)\n",
    "\n",
    "# Visualize the map (described using line segments) in the plotter\n",
    "loc.plotter.visualize_map()"
   ]
  },
  {
   "cell_type": "markdown",
   "metadata": {},
   "source": [
    "# Execute Trajectory\n",
    "The below cell showcases how to use Trajectory class to go through the pre-planned motion trajectory. <br>\n",
    "The cell does not run any sort of probabilistic estimation. <br>\n",
    "It simply executes the motion each time step in a successive manner. \n",
    "\n",
    "Run this cell once and monitor how the robot executes the entire, collision-free trajectory.\n",
    "\n",
    "**Make sure you go through the motion in a successive manner in order to execute a collision free trajectory** "
   ]
  },
  {
   "cell_type": "code",
   "execution_count": 10,
   "metadata": {},
   "outputs": [
    {
     "name": "stdout",
     "output_type": "stream",
     "text": [
      " | Resetting Robot pose\n"
     ]
    }
   ],
   "source": [
    "loc.plotter.reset_plot()\n",
    "\n",
    "# Intialize the Trajectory object\n",
    "traj = Trajectory(loc)\n",
    "\n",
    "# Run through each motion steps\n",
    "for t in range(0, traj.total_time_steps):\n",
    "    # Execute control at t=0\n",
    "    prev_odom, current_odom, prev_gt, current_gt = traj.execute_time_step(t)\n",
    "    \n",
    "    # Plot Odom and GT\n",
    "    loc.plotter.plot_point(current_odom[0], current_odom[1], ODOM)\n",
    "    loc.plotter.plot_point(current_gt[0], current_gt[1], GT)\n",
    "    \n"
   ]
  },
  {
   "cell_type": "markdown",
   "metadata": {},
   "source": [
    "<hr>\n",
    "\n",
    "# Localization\n",
    "The cell below contains skeleton code for various functions required to perform grid localization using Bayes Filter. <br>\n",
    "Utilize the function documentation (within the triple double quotes shown in red) to write your pseudo code. <br>\n",
    "You may add more functions or edit a function's definition to have a different input(arguments) and output(return values). <br>\n",
    "### <span style=\"color:rgb(0,150,0)\">Copy the contents of the cell below to your write-up.</span> <br>\n",
    "NOTE: Running the below cell with your pseudo code may throw some exceptions/errors which is expected. You can change the cell type from \"Code\" to \"Raw\" in the toolbar, which treats the cell as a plain text field cell."
   ]
  },
  {
   "cell_type": "raw",
   "metadata": {},
   "source": [
    "# In world coordinates\n",
    "def compute_control(cur_pose, prev_pose):\n",
    "    \"\"\" Given the current and previous odometry poses, this function extracts\n",
    "    the control information based on the odometry motion model.\n",
    "\n",
    "    Args:\n",
    "        cur_pose  ([Pose]): Current Pose\n",
    "        prev_pose ([Pose]): Previous Pose \n",
    "\n",
    "    Returns:\n",
    "        [delta_rot_1]: Rotation 1  (degrees)\n",
    "        [delta_trans]: Translation (meters)\n",
    "        [delta_rot_2]: Rotation 2  (degrees)\n",
    "    Pseudocode (well, this code probably compiles):\n",
    "        delta_y = cur_pose[1] - prev_pose[1]\n",
    "        delta_x = cur_pose[0] - prev_pose[0]\n",
    "        delta_rot_1 = atan2(delta_y, delta_x)\n",
    "        delta_trans = sqrt(delta_y^2 + delta_y^2)\n",
    "        delta_rot_2 = cur_pose[2] - (prev_pose[2] + delta_rot_1)\n",
    "    \"\"\"\n",
    "\n",
    "    return delta_rot_1, delta_trans, delta_rot_2\n",
    "\n",
    "# In world coordinates\n",
    "def odom_motion_model(cur_pose, prev_pose, u):\n",
    "    \"\"\" Odometry Motion Model\n",
    "\n",
    "    Args:\n",
    "        cur_pose  ([Pose]): Current Pose\n",
    "        prev_pose ([Pose]): Previous Pose\n",
    "        u = (rot1, trans, rot2) (float, float, float): A tuple with control data\n",
    "            in the format (rot1, trans, rot2) with units (degrees, meters, degrees)\n",
    "\n",
    "    Returns:\n",
    "        prob [ndarray 20x20x18]: Probability p(x'|x, u)\n",
    "        \n",
    "    Pseudocode:\n",
    "        prevX, prevY, prevTh = prev_pose\n",
    "        for x,y,theta in gridPoints: # use fromMap() to get these coords.\n",
    "            # Figure out what each movement would have been to get here\n",
    "            dx = x-prevX; dy = y-prevY; dth = theta-prevTh;\n",
    "            dtrans = sqrt(dx^2+dy^2)\n",
    "            drot1 = atan2(dy,dx)\n",
    "            drot2 = dth - rot1i\n",
    "            pR = gaussian(trans, dtrans, odom_trans_sigma)\n",
    "            pTh1 = gaussian(rot1, drot1, odom_rot_sigma)\n",
    "            pTh2 = gaussian(rot2, drot2, odom_rot_sigma)\n",
    "            pXYT = pR*pTh1*pTh2 # probability we got all three right\n",
    "            prob[indices for x, y, theta] = pXYT # use toMap\n",
    "    \"\"\"\n",
    "\n",
    "    return prob\n",
    "\n",
    "def prediction_step(cur_odom, prev_odom, loc.bel):\n",
    "    \"\"\" Prediction step of the Bayes Filter.\n",
    "    Update the probabilities in loc.bel_bar based on loc.bel \n",
    "    from the previous time step and the odometry motion model.\n",
    "\n",
    "    Args:\n",
    "        cur_odom  ([Pose]): Current Pose\n",
    "        prev_odom ([Pose]): Previous Pose\n",
    "        loc.bel [ndarray 20x20x18]: Previous location probability density\n",
    "        \n",
    "    Returns:\n",
    "        loc.bel_bar [ndarray 20x20x18]: Updated location probability density\n",
    "        \n",
    "    Pseudocode:\n",
    "        loc.bel_bar = odom_motion_model(cur_odom, prev_odom)*loc.bel\n",
    "    \"\"\"\n",
    "    \n",
    "    return loc.bel_bar\n",
    "\n",
    "def sensor_model(obs, cur_pose):\n",
    "    \"\"\" This is the equivalent of p(z|x).\n",
    "    Args:\n",
    "        obs [ndarray]: A 1D array consisting of the measurements made in rotation loop\n",
    "        cur_pose  ([Pose]): Current Pose\n",
    "\n",
    "    Returns:\n",
    "        probArray [ndarray]: Returns a 1D array of size 18 (=loc.OBS_PER_CELL) with the likelihood of each individual measurements\n",
    "    Pseudocode:\n",
    "        (x,y,theta) = cur_pose\n",
    "        for i in range(18):\n",
    "            d = getViews(x,y,theta)\n",
    "            probArray[i] = gaussian(obs[i], d, sensor_sigma)\n",
    "    \"\"\"\n",
    "\n",
    "    return prob_array\n",
    "\n",
    "# In configuration space\n",
    "def update_step(loc.bel_bar, obs):\n",
    "    \"\"\" Update step of the Bayes Filter.\n",
    "    Update the probabilities in loc.bel based on loc.bel_bar and the sensor model.\n",
    "    Args:\n",
    "        loc.bel_bar: belief after prediction step\n",
    "        obs [ndarray]: A 1D array consisting of the measurements made in rotation loop\n",
    "    Returns:\n",
    "        loc.bel [ndarray 20x20x18]: belief after update step\n",
    "    Pseudocode:\n",
    "        loc.bel = sensorModel(obs)*loc.bel_bar\n",
    "        eta = 1/sum(loc.bel)    # normalization constant\n",
    "        loc.bel = loc.bel*eta\n",
    "    \"\"\"\n",
    "\n",
    "\"\"\"\n",
    "# Pseudocode for navigation with Bayes filter\n",
    "while True:\n",
    "    next_pose = compute_motion_planning(loc.bel)\n",
    "    u = compute_control(next_pose, prev_pose)\n",
    "    execute_control(u)\n",
    "    cur_pose = get_odometry() # odometry data is available once the robot has moved\n",
    "    loc.bel_bar = prediction_step(cur_pose, prev_pose, loc.bel)\n",
    "    obs = update sensor readings\n",
    "    loc.bel = update_step(loc.bel_bar, obs)\n",
    "    prev_pose = cur_pose\n",
    "\"\"\""
   ]
  }
 ],
 "metadata": {
  "kernelspec": {
   "display_name": "Python 3",
   "language": "python",
   "name": "python3"
  },
  "language_info": {
   "codemirror_mode": {
    "name": "ipython",
    "version": 3
   },
   "file_extension": ".py",
   "mimetype": "text/x-python",
   "name": "python",
   "nbconvert_exporter": "python",
   "pygments_lexer": "ipython3",
   "version": "3.6.9"
  }
 },
 "nbformat": 4,
 "nbformat_minor": 4
}
